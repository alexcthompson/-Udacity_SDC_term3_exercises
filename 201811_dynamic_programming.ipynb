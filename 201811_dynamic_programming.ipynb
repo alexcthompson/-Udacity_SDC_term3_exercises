{
 "cells": [
  {
   "cell_type": "code",
   "execution_count": 2,
   "metadata": {
    "collapsed": true
   },
   "outputs": [],
   "source": [
    "import unittest\n",
    "\n",
    "import numpy as np\n",
    "\n",
    "grid = [[0, 1, 0, 0, 0, 0],\n",
    "        [0, 1, 0, 0, 0, 0],\n",
    "        [0, 1, 0, 0, 0, 0],\n",
    "        [0, 1, 0, 0, 0, 0],\n",
    "        [0, 0, 0, 0, 1, 0]]\n",
    "goal = [len(grid)-1, len(grid[0])-1]\n",
    "cost = 1 # the cost associated with moving from a cell to an adjacent one\n",
    "\n",
    "delta = [[-1, 0 ], # go up\n",
    "         [ 0, -1], # go left\n",
    "         [ 1, 0 ], # go down\n",
    "         [ 0, 1 ]] # go right\n",
    "\n",
    "delta_name = ['^', '<', 'v', '>']"
   ]
  },
  {
   "cell_type": "markdown",
   "metadata": {},
   "source": [
    "# Dynamic programming and policy"
   ]
  },
  {
   "cell_type": "code",
   "execution_count": 3,
   "metadata": {
    "scrolled": false
   },
   "outputs": [
    {
     "name": "stderr",
     "output_type": "stream",
     "text": [
      "...\n",
      "----------------------------------------------------------------------\n",
      "Ran 3 tests in 0.008s\n",
      "\n",
      "OK\n"
     ]
    }
   ],
   "source": [
    "def add_tuples(a,b):\n",
    "    return (a[0] + b[0], a[1] + b[1])\n",
    "\n",
    "\n",
    "class Map:\n",
    "    def __init__(self, grid, goal, cost):\n",
    "        self.grid = grid\n",
    "        self.goal = tuple(goal)\n",
    "        self.cost = cost\n",
    "        self.dims = self.grid.shape\n",
    "        \n",
    "        self.value = np.full(self.grid.shape, 99)\n",
    "        self.open = [(0, ' ', self.goal)]\n",
    "        \n",
    "        self.delta = [[-1, 0 ], # go up\n",
    "                      [ 0, -1], # go left\n",
    "                      [ 1, 0 ], # go down\n",
    "                      [ 0, 1 ]] # go right\n",
    "        \n",
    "        # given a move, provides the reverse of this move in text\n",
    "        self.rev_move_lookup = {\n",
    "            (-1,  0): 'v',\n",
    "            ( 0, -1): '>',\n",
    "            ( 1,  0): '^',\n",
    "            ( 0,  1): '<',\n",
    "        }\n",
    "        \n",
    "        self.policy = np.full(self.dims, ' ')\n",
    "\n",
    "\n",
    "    def valid_loc(self, loc):\n",
    "        x,y = loc\n",
    "        return (0 <= x < self.dims[0] and 0 <= y < self.dims[1] and self.grid[loc] == 0)\n",
    "    \n",
    "    \n",
    "    def next_expand(self, iters=1):\n",
    "        for i in range(iters):\n",
    "            if len(self.open) == 0:\n",
    "                return\n",
    "\n",
    "            self.open.sort()\n",
    "            d, loc_policy, loc = self.open.pop(0)\n",
    "\n",
    "            if self.value[loc] != 99:\n",
    "                continue\n",
    "\n",
    "            self.value[loc] = d\n",
    "            self.policy[loc] = loc_policy\n",
    "\n",
    "            for move in self.delta:\n",
    "                new_loc = add_tuples(loc, move)\n",
    "\n",
    "                if self.valid_loc(new_loc) and self.value[new_loc] == 99:\n",
    "                    implied_policy = self.rev_move_lookup[tuple(move)]\n",
    "                    self.open.append((d + self.cost, implied_policy, new_loc))\n",
    "                    \n",
    "                \n",
    "    def iter_until_solved(self):\n",
    "        while len(self.open) > 0:\n",
    "            self.next_expand()\n",
    "    \n",
    "    \n",
    "class DynamicProgTests(unittest.TestCase):\n",
    "    \n",
    "    def setUp(self):\n",
    "        self.grid = np.array([[0, 1, 0, 0, 0, 0],\n",
    "                              [0, 1, 0, 0, 0, 0],\n",
    "                              [0, 1, 0, 0, 0, 0],\n",
    "                              [0, 1, 0, 0, 0, 0],\n",
    "                              [0, 0, 0, 0, 1, 0]])\n",
    "        self.goal = (len(self.grid)-1, len(self.grid[0])-1)\n",
    "        self.cost = 1\n",
    "        self.m = Map(self.grid, self.goal, self.cost)\n",
    "    \n",
    "    \n",
    "    def test_initialization(self):\n",
    "        self.assertEqual(self.m.grid.shape, (5,6))\n",
    "        self.assertEqual(self.m.value.shape, self.m.grid.shape)\n",
    "        self.assertEqual(self.m.value[(1,1)], 99)\n",
    "\n",
    "        \n",
    "    def test_next_expand(self):\n",
    "        self.m.next_expand()\n",
    "        self.assertEqual(self.m.value[self.m.goal], 0)\n",
    "        \n",
    "        self.m.next_expand()\n",
    "        self.assertEqual(self.m.value[(3,5)], 1)\n",
    "        \n",
    "        self.m.iter_until_solved()\n",
    "        expected_value = np.array([[11, 99,  7,  6,  5,  4],\n",
    "                                   [10, 99,  6,  5,  4,  3],\n",
    "                                   [ 9, 99,  5,  4,  3,  2],\n",
    "                                   [ 8, 99,  4,  3,  2,  1],\n",
    "                                   [ 7,  6,  5,  4, 99,  0]])\n",
    "        self.assertTrue(np.array_equal(self.m.value, expected_value))\n",
    "        \n",
    "        \n",
    "    def test_policy(self):\n",
    "        self.m.next_expand()\n",
    "        expected_policy = np.full(self.m.dims, ' ')\n",
    "        self.assertTrue(np.array_equal(expected_policy, self.m.policy))\n",
    "        \n",
    "        self.m.next_expand(iters=3)\n",
    "        expected_policy[3, 5] = 'v'\n",
    "        expected_policy[2, 5] = 'v'\n",
    "        expected_policy[3, 4] = '>'\n",
    "        self.assertTrue(np.array_equal(expected_policy, self.m.policy))\n",
    "        \n",
    "        self.m.iter_until_solved()\n",
    "        expected_policy = np.array([['v', ' ', '>', '>', '>', 'v'],\n",
    "                                    ['v', ' ', '>', '>', '>', 'v'],\n",
    "                                    ['v', ' ', '>', '>', '>', 'v'],\n",
    "                                    ['v', ' ', '>', '>', '>', 'v'],\n",
    "                                    ['>', '>', '>', '^', ' ', ' ']])\n",
    "        self.assertTrue(np.array_equal(expected_policy, self.m.policy))\n",
    "        \n",
    "        \n",
    "if __name__ == '__main__':\n",
    "    unittest.main(argv=['first-arg-is-ignored'], exit = False)"
   ]
  },
  {
   "cell_type": "markdown",
   "metadata": {
    "collapsed": true
   },
   "source": [
    "# Adding left turns "
   ]
  },
  {
   "cell_type": "code",
   "execution_count": 4,
   "metadata": {
    "collapsed": true
   },
   "outputs": [],
   "source": [
    "# ----------\n",
    "# User Instructions:\n",
    "# \n",
    "# Implement the function optimum_policy2D below.\n",
    "#\n",
    "# You are given a car in grid with initial state\n",
    "# init. Your task is to compute and return the car's \n",
    "# optimal path to the position specified in goal; \n",
    "# the costs for each motion are as defined in cost.\n",
    "#\n",
    "# There are four motion directions: up, left, down, and right.\n",
    "# Increasing the index in this array corresponds to making a\n",
    "# a left turn, and decreasing the index corresponds to making a \n",
    "# right turn.\n",
    "\n",
    "forward = [[-1,  0], # go up\n",
    "           [ 0, -1], # go left\n",
    "           [ 1,  0], # go down\n",
    "           [ 0,  1]] # go right\n",
    "forward_name = ['up', 'left', 'down', 'right']\n",
    "\n",
    "# action has 3 values: right turn, no turn, left turn\n",
    "action = [-1, 0, 1]\n",
    "action_name = ['R', '#', 'L']\n",
    "\n",
    "# EXAMPLE INPUTS:\n",
    "# grid format:\n",
    "#     0 = navigable space\n",
    "#     1 = unnavigable space \n",
    "grid = [[1, 1, 1, 0, 0, 0],\n",
    "        [1, 1, 1, 0, 1, 0],\n",
    "        [0, 0, 0, 0, 0, 0],\n",
    "        [1, 1, 1, 0, 1, 1],\n",
    "        [1, 1, 1, 0, 1, 1]]\n",
    "\n",
    "init = [4, 3, 0] # given in the form [row,col,direction]\n",
    "                 # direction = 0: up\n",
    "                 #             1: left\n",
    "                 #             2: down\n",
    "                 #             3: right\n",
    "                \n",
    "goal = [2, 0] # given in the form [row,col]\n",
    "\n",
    "cost = [2, 1, 20] # cost has 3 values, corresponding to making \n",
    "                  # a right turn, no turn, and a left turn\n",
    "\n",
    "# EXAMPLE OUTPUT:\n",
    "# calling optimum_policy2D with the given parameters should return \n",
    "# [[' ', ' ', ' ', 'R', '#', 'R'],\n",
    "#  [' ', ' ', ' ', '#', ' ', '#'],\n",
    "#  ['*', '#', '#', '#', '#', 'R'],\n",
    "#  [' ', ' ', ' ', '#', ' ', ' '],\n",
    "#  [' ', ' ', ' ', '#', ' ', ' ']]\n",
    "# ----------"
   ]
  },
  {
   "cell_type": "code",
   "execution_count": 5,
   "metadata": {},
   "outputs": [
    {
     "data": {
      "text/plain": [
       "['a', 'a', 'a', 'a']"
      ]
     },
     "execution_count": 5,
     "metadata": {},
     "output_type": "execute_result"
    }
   ],
   "source": [
    "['a'] * 4"
   ]
  },
  {
   "cell_type": "code",
   "execution_count": 11,
   "metadata": {},
   "outputs": [
    {
     "name": "stdout",
     "output_type": "stream",
     "text": [
      "i = 0; i -1 = -1; n = right\n",
      "i = 1; i -1 = 0; n = straight\n",
      "i = 2; i -1 = 1; n = left\n"
     ]
    }
   ],
   "source": [
    "for i, n in enumerate(['right', 'straight', 'left']):\n",
    "    print('i = {}; i -1 = {}; n = {}'.format(i, i -1, n))"
   ]
  },
  {
   "cell_type": "code",
   "execution_count": 12,
   "metadata": {},
   "outputs": [
    {
     "data": {
      "text/plain": [
       "[1, 2, 3]"
      ]
     },
     "execution_count": 12,
     "metadata": {},
     "output_type": "execute_result"
    }
   ],
   "source": [
    "[1] + [2,3]"
   ]
  },
  {
   "cell_type": "code",
   "execution_count": 30,
   "metadata": {},
   "outputs": [
    {
     "data": {
      "text/plain": [
       "True"
      ]
     },
     "execution_count": 30,
     "metadata": {},
     "output_type": "execute_result"
    }
   ],
   "source": [
    "b = 2\n",
    "(1 < b < 3) & (0 < 2)"
   ]
  },
  {
   "cell_type": "code",
   "execution_count": 68,
   "metadata": {
    "scrolled": false
   },
   "outputs": [
    {
     "name": "stderr",
     "output_type": "stream",
     "text": [
      ".."
     ]
    },
    {
     "name": "stdout",
     "output_type": "stream",
     "text": [
      "[[[' ' ' ' ' ' 'R' ' ' ' ']\n",
      "  [' ' ' ' ' ' '#' ' ' ' ']\n",
      "  ['*' ' ' ' ' '#' ' ' ' ']\n",
      "  [' ' ' ' ' ' '#' ' ' ' ']\n",
      "  [' ' ' ' ' ' '#' ' ' ' ']]\n",
      "\n",
      " [[' ' ' ' ' ' ' ' ' ' ' ']\n",
      "  [' ' ' ' ' ' ' ' ' ' ' ']\n",
      "  ['*' '#' '#' '#' '#' ' ']\n",
      "  [' ' ' ' ' ' ' ' ' ' ' ']\n",
      "  [' ' ' ' ' ' ' ' ' ' ' ']]\n",
      "\n",
      " [[' ' ' ' ' ' ' ' ' ' ' ']\n",
      "  [' ' ' ' ' ' '#' ' ' '#']\n",
      "  ['*' ' ' ' ' 'R' ' ' 'R']\n",
      "  [' ' ' ' ' ' ' ' ' ' ' ']\n",
      "  [' ' ' ' ' ' ' ' ' ' ' ']]\n",
      "\n",
      " [[' ' ' ' ' ' ' ' '#' 'R']\n",
      "  [' ' ' ' ' ' ' ' ' ' ' ']\n",
      "  ['*' ' ' ' ' ' ' ' ' ' ']\n",
      "  [' ' ' ' ' ' ' ' ' ' ' ']\n",
      "  [' ' ' ' ' ' ' ' ' ' ' ']]]\n"
     ]
    },
    {
     "name": "stderr",
     "output_type": "stream",
     "text": [
      "\n",
      "----------------------------------------------------------------------\n",
      "Ran 2 tests in 0.004s\n",
      "\n",
      "OK\n"
     ]
    }
   ],
   "source": [
    "def add_tuples(a,b):\n",
    "    return (a[0] + b[0], a[1] + b[1])\n",
    "\n",
    "\n",
    "def rev_move(a):\n",
    "    return [-1 * d for d in a]\n",
    "\n",
    "\n",
    "class Map:\n",
    "    def __init__(self, grid, goal, init, cost, action, action_name):\n",
    "        self.grid = grid\n",
    "        g_temp = np.reshape(self.grid, (1,) + self.grid.shape)\n",
    "        self.grid_space = np.vstack([g_temp] * 4)\n",
    "        \n",
    "        self.goal = tuple(goal)\n",
    "        self.init = (init[2], init[0], init[1])\n",
    "        self.cost = cost\n",
    "        self.dims = self.grid_space.shape\n",
    "        \n",
    "        self.value = np.full(self.grid_space.shape, 999)\n",
    "        self.open = [(0, '*', (i,) + self.goal) for i in range(4)]\n",
    "        \n",
    "        self.delta = [[-1, 0 ], # go up\n",
    "                      [ 0, -1], # go left\n",
    "                      [ 1, 0 ], # go down\n",
    "                      [ 0, 1 ]] # go right\n",
    "        \n",
    "        self.action = action\n",
    "        self.action_name = action_name\n",
    "        \n",
    "        self.policy = np.full(self.grid_space.shape, ' ')\n",
    "        \n",
    "        # init goal location in policy\n",
    "        for i in range(4):\n",
    "            self.policy[(i,) + self.goal] = '*'\n",
    "        \n",
    "\n",
    "    def valid_loc(self, loc):\n",
    "        x, y = loc\n",
    "        return (0 <= x < self.dims[1] and 0 <= y < self.dims[2] and self.grid[loc] == 0)\n",
    "    \n",
    "    \n",
    "    def next_expand(self, iters=1):\n",
    "        for i in range(iters):\n",
    "            if len(self.open) == 0:\n",
    "                return\n",
    "\n",
    "            self.open.sort()\n",
    "            d, loc_policy, loc = self.open.pop(0)\n",
    "\n",
    "            if self.value[loc] != 999:\n",
    "                continue\n",
    "\n",
    "            if loc == self.init:\n",
    "                self.value[loc] = d\n",
    "                self.policy[loc] = loc_policy\n",
    "                return\n",
    "                \n",
    "            prev_loc = add_tuples(rev_move(self.delta[loc[0]]), loc[1:])\n",
    "            \n",
    "            \n",
    "            if not self.valid_loc(prev_loc):\n",
    "                continue\n",
    "                    \n",
    "            else:\n",
    "                self.value[loc] = d\n",
    "                self.policy[loc] = loc_policy\n",
    "            \n",
    "                # consider any of the moves that could have gotten you here in this orientation\n",
    "                for i, action in enumerate(self.action):\n",
    "                    new_orientation =  (loc[0] + 1 - i) % 4\n",
    "                    new_loc = (new_orientation,) + prev_loc\n",
    "                    cost = self.cost[i]\n",
    "                    policy = self.action_name[i]\n",
    "                    \n",
    "                    self.open.append((d + cost, policy, new_loc))\n",
    "\n",
    "                    \n",
    "    def iter_until_solved(self):\n",
    "        while len(self.open) > 0 and self.value[self.init] == 999:\n",
    "            self.next_expand()\n",
    "    \n",
    "    \n",
    "class DynamicProgTests(unittest.TestCase):\n",
    "    \n",
    "    def setUp(self):\n",
    "        self.grid = np.array(grid)\n",
    "        self.goal = goal\n",
    "        self.init = init\n",
    "        self.cost = cost\n",
    "        self.action = action\n",
    "        self.action_name = action_name\n",
    "        self.m = Map(self.grid, self.goal, self.init,\n",
    "                     self.cost, self.action, self.action_name)\n",
    "    \n",
    "    \n",
    "    def test_initialization(self):\n",
    "        self.assertEqual(self.m.grid_space.shape, (4, 5,6))\n",
    "        self.assertEqual(self.m.value.shape, self.m.grid_space.shape)\n",
    "        \n",
    "        \n",
    "    def test_next_expand(self):\n",
    "        # TODO rewrite tests\n",
    "        self.m.next_expand()\n",
    "        \n",
    "        self.m.next_expand()\n",
    "        \n",
    "        self.m.iter_until_solved()\n",
    "\n",
    "        print(self.m.policy)\n",
    "        \n",
    "\n",
    "    # TODO test policy and value\n",
    "       \n",
    "        \n",
    "if __name__ == '__main__':\n",
    "    unittest.main(argv=['first-arg-is-ignored'], exit = False)"
   ]
  },
  {
   "cell_type": "code",
   "execution_count": null,
   "metadata": {
    "collapsed": true
   },
   "outputs": [],
   "source": []
  }
 ],
 "metadata": {
  "kernelspec": {
   "display_name": "Python 3",
   "language": "python",
   "name": "python3"
  },
  "language_info": {
   "codemirror_mode": {
    "name": "ipython",
    "version": 3
   },
   "file_extension": ".py",
   "mimetype": "text/x-python",
   "name": "python",
   "nbconvert_exporter": "python",
   "pygments_lexer": "ipython3",
   "version": "3.6.1"
  }
 },
 "nbformat": 4,
 "nbformat_minor": 2
}
