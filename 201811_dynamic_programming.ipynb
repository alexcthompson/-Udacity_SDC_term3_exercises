{
 "cells": [
  {
   "cell_type": "code",
   "execution_count": 4,
   "metadata": {
    "collapsed": true
   },
   "outputs": [],
   "source": [
    "import unittest\n",
    "\n",
    "import numpy as np\n",
    "\n",
    "grid = [[0, 1, 0, 0, 0, 0],\n",
    "        [0, 1, 0, 0, 0, 0],\n",
    "        [0, 1, 0, 0, 0, 0],\n",
    "        [0, 1, 0, 0, 0, 0],\n",
    "        [0, 0, 0, 0, 1, 0]]\n",
    "goal = [len(grid)-1, len(grid[0])-1]\n",
    "cost = 1 # the cost associated with moving from a cell to an adjacent one\n",
    "\n",
    "delta = [[-1, 0 ], # go up\n",
    "         [ 0, -1], # go left\n",
    "         [ 1, 0 ], # go down\n",
    "         [ 0, 1 ]] # go right\n",
    "\n",
    "delta_name = ['^', '<', 'v', '>']"
   ]
  },
  {
   "cell_type": "code",
   "execution_count": 67,
   "metadata": {
    "scrolled": true
   },
   "outputs": [
    {
     "name": "stderr",
     "output_type": "stream",
     "text": [
      "..\n",
      "----------------------------------------------------------------------\n",
      "Ran 2 tests in 0.003s\n",
      "\n",
      "OK\n"
     ]
    }
   ],
   "source": [
    "# list of open nodes, w/ from (value, (coords)) and sorted to show lowest value first\n",
    "# pop off the first one, and\n",
    "# check for validity, and if valid\n",
    "# expand =\n",
    "#     - add it to the value graph\n",
    "#     - add adjacent open nodes with appropriate value\n",
    "# iterate unti no more open nodes\n",
    "\n",
    "def add_tuples(a,b):\n",
    "    return (a[0] + b[0], a[1] + b[1])\n",
    "\n",
    "\n",
    "class Map:\n",
    "    def __init__(self, grid, goal, cost):\n",
    "        self.grid = grid\n",
    "        self.goal = tuple(goal)\n",
    "        self.cost = cost\n",
    "        self.dims = self.grid.shape\n",
    "        \n",
    "        self.value = np.full(self.grid.shape, 99)\n",
    "        self.open = [(0, self.goal)]\n",
    "        \n",
    "        self.delta = [[-1, 0 ], # go up\n",
    "                      [ 0, -1], # go left\n",
    "                      [ 1, 0 ], # go down\n",
    "                      [ 0, 1 ]] # go right\n",
    "\n",
    "\n",
    "    def valid_loc(self, loc):\n",
    "        x,y = loc\n",
    "        return (0 <= x < self.dims[0] and 0 <= y < self.dims[1] and self.grid[loc] == 0)\n",
    "    \n",
    "    \n",
    "    def next_expand(self, iters=1):\n",
    "        for i in range(iters):\n",
    "            if len(self.open) == 0:\n",
    "                return\n",
    "\n",
    "            self.open.sort()\n",
    "            d, loc = self.open.pop(0)\n",
    "\n",
    "            if self.value[loc] != 99:\n",
    "                continue\n",
    "\n",
    "            self.value[loc] = d\n",
    "\n",
    "            for move in self.delta:\n",
    "                new_loc = add_tuples(loc, move)\n",
    "\n",
    "                if self.valid_loc(new_loc) and self.value[new_loc] == 99:\n",
    "                    self.open.append((d + self.cost, new_loc))\n",
    "                    \n",
    "                \n",
    "    def iter_until_solved(self):\n",
    "        while len(self.open) > 0:\n",
    "            self.next_expand()\n",
    "    \n",
    "    \n",
    "class DynamicProgTests(unittest.TestCase):\n",
    "    \n",
    "    def setUp(self):\n",
    "        self.grid = np.array([[0, 1, 0, 0, 0, 0],\n",
    "                              [0, 1, 0, 0, 0, 0],\n",
    "                              [0, 1, 0, 0, 0, 0],\n",
    "                              [0, 1, 0, 0, 0, 0],\n",
    "                              [0, 0, 0, 0, 1, 0]])\n",
    "        self.goal = (len(self.grid)-1, len(self.grid[0])-1)\n",
    "        self.cost = 1\n",
    "        self.m = Map(self.grid, self.goal, self.cost)\n",
    "    \n",
    "    \n",
    "    def test_initialization(self):\n",
    "        self.assertEqual(self.m.grid.shape, (5,6))\n",
    "        self.assertEqual(self.m.value.shape, self.m.grid.shape)\n",
    "        self.assertEqual(self.m.value[(1,1)], 99)\n",
    "\n",
    "        \n",
    "    def test_next_expand(self):\n",
    "        self.m.next_expand()\n",
    "        self.assertEqual(self.m.value[self.m.goal], 0)\n",
    "        \n",
    "        self.m.next_expand()\n",
    "        self.assertEqual(self.m.value[(3,5)], 1)\n",
    "        \n",
    "        self.m.iter_until_solved()\n",
    "        expected_value = np.array([[11, 99,  7,  6,  5,  4],\n",
    "                                   [10, 99,  6,  5,  4,  3],\n",
    "                                   [ 9, 99,  5,  4,  3,  2],\n",
    "                                   [ 8, 99,  4,  3,  2,  1],\n",
    "                                   [ 7,  6,  5,  4, 99,  0]])\n",
    "        self.assertTrue(np.array_equal(self.m.value, expected_value))\n",
    "        \n",
    "\n",
    "if __name__ == '__main__':\n",
    "    unittest.main(argv=['first-arg-is-ignored'], exit = False)"
   ]
  },
  {
   "cell_type": "code",
   "execution_count": null,
   "metadata": {
    "collapsed": true
   },
   "outputs": [],
   "source": []
  }
 ],
 "metadata": {
  "kernelspec": {
   "display_name": "Python 3",
   "language": "python",
   "name": "python3"
  },
  "language_info": {
   "codemirror_mode": {
    "name": "ipython",
    "version": 3
   },
   "file_extension": ".py",
   "mimetype": "text/x-python",
   "name": "python",
   "nbconvert_exporter": "python",
   "pygments_lexer": "ipython3",
   "version": "3.6.1"
  }
 },
 "nbformat": 4,
 "nbformat_minor": 2
}
